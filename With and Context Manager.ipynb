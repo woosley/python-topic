{
 "cells": [
  {
   "cell_type": "code",
   "execution_count": 6,
   "metadata": {
    "collapsed": false
   },
   "outputs": [
    {
     "name": "stdout",
     "output_type": "stream",
     "text": [
      "['__class__', '__delattr__', '__doc__', '__enter__', '__exit__', '__format__', '__getattribute__', '__hash__', '__init__', '__iter__', '__new__', '__reduce__', '__reduce_ex__', '__repr__', '__setattr__', '__sizeof__', '__str__', '__subclasshook__', 'close', 'closed', 'encoding', 'errors', 'fileno', 'flush', 'isatty', 'mode', 'name', 'newlines', 'next', 'read', 'readinto', 'readline', 'readlines', 'seek', 'softspace', 'tell', 'truncate', 'write', 'writelines', 'xreadlines']\n"
     ]
    }
   ],
   "source": [
    "from __future__ import print_function\n",
    "with open(\"a.txt\", 'w') as fh:\n",
    "    print(dir(fh))\n",
    "    "
   ]
  },
  {
   "cell_type": "code",
   "execution_count": 16,
   "metadata": {
    "collapsed": false
   },
   "outputs": [
    {
     "name": "stdout",
     "output_type": "stream",
     "text": [
      "__init__\n",
      "__enter__\n",
      "__ContextBody__\n",
      "<__main__.Context object at 0x10a38ead0>\n",
      "None None None\n",
      "__exit__\n",
      "\n",
      "\n",
      "__init__\n",
      "__enter__\n",
      "<type 'exceptions.Exception'> I will not be raised again <traceback object at 0x10a3c1e60>\n",
      "__exit__\n",
      "\n",
      "\n",
      "__init__\n",
      "__enter__\n",
      "<type 'exceptions.Exception'> I will be poped again <traceback object at 0x10a3c1f80>\n",
      "__exit__\n"
     ]
    },
    {
     "ename": "Exception",
     "evalue": "I will be poped again",
     "output_type": "error",
     "traceback": [
      "\u001b[0;31m---------------------------------------------------------------------------\u001b[0m",
      "\u001b[0;31mException\u001b[0m                                 Traceback (most recent call last)",
      "\u001b[0;32m<ipython-input-16-98a2336b8c01>\u001b[0m in \u001b[0;36m<module>\u001b[0;34m()\u001b[0m\n\u001b[1;32m     24\u001b[0m \u001b[0;34m\u001b[0m\u001b[0m\n\u001b[1;32m     25\u001b[0m \u001b[0;32mwith\u001b[0m \u001b[0mContext\u001b[0m\u001b[0;34m(\u001b[0m\u001b[0mFalse\u001b[0m\u001b[0;34m)\u001b[0m \u001b[0;32mas\u001b[0m \u001b[0mc\u001b[0m\u001b[0;34m:\u001b[0m\u001b[0;34m\u001b[0m\u001b[0m\n\u001b[0;32m---> 26\u001b[0;31m     \u001b[0;32mraise\u001b[0m \u001b[0mException\u001b[0m\u001b[0;34m(\u001b[0m\u001b[0;34m\"I will be poped again\"\u001b[0m\u001b[0;34m)\u001b[0m\u001b[0;34m\u001b[0m\u001b[0m\n\u001b[0m",
      "\u001b[0;31mException\u001b[0m: I will be poped again"
     ]
    }
   ],
   "source": [
    "class Context(object):\n",
    "    def __init__(self, handle_error):\n",
    "        self.he = handle_error\n",
    "        print(\"__init__\")\n",
    "    def __enter__(self):\n",
    "        print(\"__enter__\")\n",
    "        return self\n",
    "    def __exit__(self, a, b, c):\n",
    "        print(a, b, c)\n",
    "        print(\"__exit__\")\n",
    "        return self.he\n",
    "        \n",
    "with Context(True) as c:\n",
    "    print(\"__ContextBody__\")\n",
    "    print(c)\n",
    "    \n",
    "print()\n",
    "print()\n",
    "with Context(True) as c:\n",
    "    raise Exception(\"I will not be raised again\")\n",
    "    \n",
    "print()\n",
    "print()\n",
    "    \n",
    "with Context(False) as c:\n",
    "    raise Exception(\"I will be poped again\")"
   ]
  },
  {
   "cell_type": "code",
   "execution_count": 2,
   "metadata": {
    "collapsed": false
   },
   "outputs": [
    {
     "name": "stdout",
     "output_type": "stream",
     "text": [
      "entering ...\n",
      "insider ...\n",
      "Exiting ...\n",
      "()\n",
      "()\n",
      "entering ...\n",
      "insider ...\n",
      "('Error: ', RuntimeError('Captured error',))\n",
      "Exiting ...\n",
      "()\n",
      "()\n",
      "entering ...\n",
      "insider...\n",
      "Exiting ...\n"
     ]
    },
    {
     "ename": "Exception",
     "evalue": "raise Exception",
     "output_type": "error",
     "traceback": [
      "\u001b[0;31m---------------------------------------------------------------------------\u001b[0m",
      "\u001b[0;31mException\u001b[0m                                 Traceback (most recent call last)",
      "\u001b[0;32m<ipython-input-2-730d7aacbf6c>\u001b[0m in \u001b[0;36m<module>\u001b[0;34m()\u001b[0m\n\u001b[1;32m     27\u001b[0m \u001b[0;32mwith\u001b[0m \u001b[0mmake_c\u001b[0m\u001b[0;34m(\u001b[0m\u001b[0;34m)\u001b[0m \u001b[0;32mas\u001b[0m \u001b[0mc\u001b[0m\u001b[0;34m:\u001b[0m\u001b[0;34m\u001b[0m\u001b[0m\n\u001b[1;32m     28\u001b[0m     \u001b[0;32mprint\u001b[0m\u001b[0;34m(\u001b[0m\u001b[0;34m\"insider...\"\u001b[0m\u001b[0;34m)\u001b[0m\u001b[0;34m\u001b[0m\u001b[0m\n\u001b[0;32m---> 29\u001b[0;31m     \u001b[0;32mraise\u001b[0m \u001b[0mException\u001b[0m\u001b[0;34m(\u001b[0m\u001b[0;34m\"raise Exception\"\u001b[0m\u001b[0;34m)\u001b[0m\u001b[0;34m\u001b[0m\u001b[0m\n\u001b[0m",
      "\u001b[0;31mException\u001b[0m: raise Exception"
     ]
    }
   ],
   "source": [
    "import contextlib\n",
    "\n",
    "@contextlib.contextmanager\n",
    "def make_c():\n",
    "    print(\"entering ...\")\n",
    "    try:\n",
    "        yield {}\n",
    "    except RuntimeError as e:\n",
    "        print(\"Error: \", e)\n",
    "    finally:\n",
    "        print(\"Exiting ...\")\n",
    "        \n",
    "\n",
    "with make_c()  as c:\n",
    "    print(\"insider ...\")\n",
    "    \n",
    "print()\n",
    "print()\n",
    "\n",
    "with make_c() as c:\n",
    "    print(\"insider ...\")\n",
    "    raise RuntimeError(\"Captured error\")\n",
    "    \n",
    "print()\n",
    "print()\n",
    "\n",
    "with make_c() as c:\n",
    "    print(\"insider...\")\n",
    "    raise Exception(\"raise Exception\")"
   ]
  },
  {
   "cell_type": "code",
   "execution_count": 4,
   "metadata": {
    "collapsed": false
   },
   "outputs": [
    {
     "name": "stdout",
     "output_type": "stream",
     "text": [
      "('Entering ...', 'A')\n",
      "('Entering ...', 'B')\n",
      "insider\n",
      "('a ...', 'A')\n",
      "('b ...', 'B')\n",
      "('Exiting ....', 'B')\n",
      "('Exiting ....', 'A')\n"
     ]
    }
   ],
   "source": [
    "@contextlib.contextmanager\n",
    "def make_c(name):\n",
    "    print(\"Entering ...\", name)\n",
    "    yield name\n",
    "    print(\"Exiting ....\", name)\n",
    "    \n",
    "with make_c(\"A\") as a, make_c(\"B\") as b:\n",
    "    print(\"insider\")\n",
    "    print(\"a ...\", a)\n",
    "    print(\"b ...\", b)"
   ]
  },
  {
   "cell_type": "code",
   "execution_count": null,
   "metadata": {
    "collapsed": true
   },
   "outputs": [],
   "source": []
  }
 ],
 "metadata": {
  "kernelspec": {
   "display_name": "Python 2",
   "language": "python",
   "name": "python2"
  },
  "language_info": {
   "codemirror_mode": {
    "name": "ipython",
    "version": 2
   },
   "file_extension": ".py",
   "mimetype": "text/x-python",
   "name": "python",
   "nbconvert_exporter": "python",
   "pygments_lexer": "ipython2",
   "version": "2.7.10"
  }
 },
 "nbformat": 4,
 "nbformat_minor": 0
}
