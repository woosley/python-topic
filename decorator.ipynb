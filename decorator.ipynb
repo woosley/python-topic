{
 "cells": [
  {
   "cell_type": "markdown",
   "metadata": {},
   "source": [
    "# 装饰器\n",
    "## 理解装饰器\n",
    "\n",
    "理解装饰器，我们必须要理解当我们给一个函数加上装饰器的时候，真正发生了什么，比如下面的代码。\n",
    "\n",
    "```python\n",
    "@my_decorator\n",
    "def my_func(*args, **kwargs):\n",
    "    pass\n",
    "```\n",
    "\n",
    "实际上这一段代码在编译的时候，编译器真正执行的是\n",
    "```python\n",
    "def my_func(*args, **kwargs):\n",
    "    pass\n",
    "my_func = my_decorator(my_func)\n",
    "```\n",
    "简单来说，`my_func`函数先被定义，然后又被`my_decorator(my_func)`的返回值重新定义了。现在来看`my_decotator`:\n",
    "\n",
    "- 首先它必须是一个可调用的对象，最常见的，必须是一个函数。它也可以是一个类，此为后话。\n",
    "- 其次它必须且只能接受一个参数`my_fun`。\n",
    "- 它必须有一个返回值，这个返回值用来覆盖原来的`my_fun`。按常理，返回值应该也是一个函数，只有这样，`my_fun`才能继续被当成函数调用。其实也不尽然，此为另一后话。\n",
    "\n",
    "现在我们尝试自己写一个装饰器。\n"
   ]
  },
  {
   "cell_type": "code",
   "execution_count": null,
   "metadata": {
    "collapsed": false
   },
   "outputs": [],
   "source": [
    "from __future__ import print_function\n",
    "from __future__ import unicode_literals\n",
    "\n",
    "\n",
    "def my_decorator(func): #接受一个函数参数\n",
    "    def wrapper(*args, **kwargs):\n",
    "        print(\"before {} ...\".format(func.__name__))\n",
    "        return_var = func(*args, **kwargs)\n",
    "        print(\"After {} ...\".format(func.__name__))\n",
    "        return return_var\n",
    "    return wrapper\n",
    "@my_decorator\n",
    "def my_func():\n",
    "    \"\"\"print myself\"\"\"\n",
    "    print(\"In my_func\")\n",
    "\n",
    "my_func()      "
   ]
  },
  {
   "cell_type": "markdown",
   "metadata": {},
   "source": [
    "可以看到，在上述代码，我们在`my_decorator`里面定义了一个函数`wrapper`，`wrapper`接受任何参数，并将其传递给func并获得func的返回值。`my_decorator`的返回值为`wrapper`函数，用来覆盖`my_func`。此时打印`my_func`的名字，获得的是`wrapper`。"
   ]
  },
  {
   "cell_type": "code",
   "execution_count": null,
   "metadata": {
    "collapsed": false
   },
   "outputs": [],
   "source": [
    "print(my_func.__name__) #wrapper\n",
    "print(my_func.__doc__) #None"
   ]
  },
  {
   "cell_type": "markdown",
   "metadata": {},
   "source": [
    "正常情况下我们希望这些函数的性质，比如函数名，docstring等能够保留下来，此时需要`functools.wraps`："
   ]
  },
  {
   "cell_type": "code",
   "execution_count": null,
   "metadata": {
    "collapsed": false
   },
   "outputs": [],
   "source": [
    "from functools import wraps\n",
    "\n",
    "def my_decorator(func):\n",
    "    @wraps(func)\n",
    "    def wrapper(*args, **kwargs):\n",
    "        print(\"before {} ...\".format(func.__name__))\n",
    "        return_var = func(*args, **kwargs)\n",
    "        print(\"After {} ...\".format(func.__name__))\n",
    "        return return_var\n",
    "    return wrapper\n",
    "@my_decorator\n",
    "def my_func():\n",
    "    \"\"\"print myself\"\"\"\n",
    "    print(\"In my_func\")\n",
    "\n",
    "my_func()\n",
    "print(\"function name is:\", my_func.__name__)\n",
    "print(\"function docstring is:\", my_func.__doc__)"
   ]
  },
  {
   "cell_type": "code",
   "execution_count": null,
   "metadata": {
    "collapsed": true
   },
   "outputs": [],
   "source": []
  }
 ],
 "metadata": {
  "kernelspec": {
   "display_name": "Python 2",
   "language": "python",
   "name": "python2"
  },
  "language_info": {
   "codemirror_mode": {
    "name": "ipython",
    "version": 2
   },
   "file_extension": ".py",
   "mimetype": "text/x-python",
   "name": "python",
   "nbconvert_exporter": "python",
   "pygments_lexer": "ipython2",
   "version": "2.7.11"
  }
 },
 "nbformat": 4,
 "nbformat_minor": 0
}
