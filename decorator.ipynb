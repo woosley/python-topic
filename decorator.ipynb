{
 "cells": [
  {
   "cell_type": "markdown",
   "metadata": {},
   "source": [
    "# 装饰器\n",
    "## 理解装饰器\n",
    "\n",
    "理解装饰器，我们必须要理解当我们给一个函数加上装饰器的时候，真正发生了什么，比如下面的代码。\n",
    "\n",
    "```python\n",
    "@my_decorator\n",
    "def my_func(*args, **kwargs):\n",
    "    pass\n",
    "```\n",
    "\n",
    "实际上这一段代码在编译的时候，编译器真正执行的是\n",
    "```python\n",
    "def my_func(*args, **kwargs):\n",
    "    pass\n",
    "my_func = my_decorator(my_func)\n",
    "```\n",
    "简单来说，`my_func`函数先被定义，然后又被`my_decorator(my_func)`的返回值重新定义了。现在来看`my_decotator`:\n",
    "\n",
    "- 首先它必须是一个可调用的对象，最常见的，必须是一个函数。它也可以是一个类，此为后话。\n",
    "- 其次它必须且只能接受一个参数`my_fun`。\n",
    "- 它必须有一个返回值，这个返回值用来覆盖原来的`my_fun`。按常理，返回值应该也是一个函数，只有这样，`my_fun`才能继续被当成函数调用。其实也不尽然，此为另一后话。\n",
    "\n",
    "\n",
    "## 基本的装饰器\n",
    "\n",
    "现在我们尝试自己写一个装饰器。\n"
   ]
  },
  {
   "cell_type": "code",
   "execution_count": 2,
   "metadata": {
    "collapsed": false
   },
   "outputs": [
    {
     "name": "stdout",
     "output_type": "stream",
     "text": [
      "before my_func ...\n",
      "In my_func\n",
      "After my_func ...\n"
     ]
    }
   ],
   "source": [
    "from __future__ import print_function\n",
    "from __future__ import unicode_literals\n",
    "\n",
    "\n",
    "def my_decorator(func): #接受一个函数参数\n",
    "    def wrapper(*args, **kwargs):\n",
    "        print(\"before {} ...\".format(func.__name__))\n",
    "        return_var = func(*args, **kwargs)\n",
    "        print(\"After {} ...\".format(func.__name__))\n",
    "        return return_var\n",
    "    return wrapper\n",
    "@my_decorator\n",
    "def my_func():\n",
    "    \"\"\"print myself\"\"\"\n",
    "    print(\"In my_func\")\n",
    "\n",
    "my_func()      "
   ]
  },
  {
   "cell_type": "markdown",
   "metadata": {},
   "source": [
    "可以看到，在上述代码，我们在`my_decorator`里面定义了一个函数`wrapper`，`wrapper`接受任何参数，并将其传递给func并获得func的返回值。`my_decorator`的返回值为`wrapper`函数，用来覆盖`my_func`。此时打印`my_func`的名字，获得的是`wrapper`。"
   ]
  },
  {
   "cell_type": "code",
   "execution_count": null,
   "metadata": {
    "collapsed": false
   },
   "outputs": [],
   "source": [
    "print(my_func.__name__) #wrapper\n",
    "print(my_func.__doc__) #None"
   ]
  },
  {
   "cell_type": "markdown",
   "metadata": {},
   "source": [
    "正常情况下我们希望这些函数的性质，比如函数名，docstring等能够保留下来，此时需要`functools.wraps`："
   ]
  },
  {
   "cell_type": "code",
   "execution_count": null,
   "metadata": {
    "collapsed": false
   },
   "outputs": [],
   "source": [
    "from functools import wraps\n",
    "\n",
    "def my_decorator(func):\n",
    "    @wraps(func)\n",
    "    def wrapper(*args, **kwargs):\n",
    "        print(\"before {} ...\".format(func.__name__))\n",
    "        return_var = func(*args, **kwargs)\n",
    "        print(\"After {} ...\".format(func.__name__))\n",
    "        return return_var\n",
    "    return wrapper\n",
    "@my_decorator\n",
    "def my_func():\n",
    "    \"\"\"print myself\"\"\"\n",
    "    print(\"In my_func\")\n",
    "\n",
    "my_func()\n",
    "print(\"function name is:\", my_func.__name__)\n",
    "print(\"function docstring is:\", my_func.__doc__)"
   ]
  },
  {
   "cell_type": "markdown",
   "metadata": {},
   "source": [
    "这里注意到`wrapers`的调用方法有点不一样，使用的是`@wraps(func)`的形式。这意味着`wraps`是一个**返回decorator的函数。**，这种情况下可以更加灵活的生成`decorator`，比如:"
   ]
  },
  {
   "cell_type": "code",
   "execution_count": null,
   "metadata": {
    "collapsed": false
   },
   "outputs": [],
   "source": [
    "def run_verbose(verbose=False):\n",
    "    def my_decorator(func):\n",
    "        @wraps(func)\n",
    "        def wrapper(*args, **kwargs):\n",
    "            if verbose is True:\n",
    "                print(\"going to run \", func.__name__)\n",
    "            return_var = func(*args, **kwargs)\n",
    "            if verbose is True:\n",
    "                print(\"ended function \", func.__name__)\n",
    "            return return_var\n",
    "        return wrapper\n",
    "    return my_decorator\n",
    "    \n",
    "@run_verbose(True)\n",
    "def my_func1():\n",
    "    print(\"running in my_func1\")\n",
    "\n",
    "@run_verbose()\n",
    "def my_func2():\n",
    "    print(\"running in my_func2\")\n",
    "             \n",
    "my_func1()\n",
    "print()\n",
    "print()\n",
    "my_func2()"
   ]
  },
  {
   "cell_type": "markdown",
   "metadata": {
    "collapsed": true
   },
   "source": [
    "以上这些基本涵盖了python装饰器90%的用法。以下是一些高级主题\n",
    "\n",
    "## 基于类的装饰器\n",
    "\n",
    "之前创建的装饰器都基于函数。实际上根据装饰器的用法，我们只需要保证其\n",
    "\n",
    "- 支持`decorator(myfunc)`的调用形式\n",
    "- 返回值也可以通过相似的方法调用\n",
    "\n",
    "试想我们平时创建一个类的对象，使用的方法是`obj = myclass(args)`的形式，因此我们可以创建一个基于类的装饰器。此时要考虑的问题是如何使返回的`obj`支持`obj(*args, **kwargs)`的函数调用形式，因为一般情况下我们通过`obj.method()`的形式来使用这个返回的对象。解决方法也很简单，只需要给myclass定义`__call__`函数，那么就可以通过`obj()`的方式_运行_这个对象。现在我们来定义一个基于类的装饰器。\n"
   ]
  },
  {
   "cell_type": "code",
   "execution_count": null,
   "metadata": {
    "collapsed": false
   },
   "outputs": [],
   "source": [
    "class MyDecorator(object):\n",
    "    def __init__(self, func):\n",
    "        self.func = func\n",
    "    \n",
    "    def __call__(self, *args, **kwargs):\n",
    "        print(\"going to run\", self.func.__name__)\n",
    "        return_var = self.func(*args, **kwargs)\n",
    "        print(\"ended function\", self.func.__name__)\n",
    "    \n",
    "@MyDecorator    \n",
    "def my_func():\n",
    "    \"\"\"my func for decorator\"\"\"\n",
    "    print(\"running my_func\")\n",
    "    \n",
    "my_func()\n",
    "print(my_func.__doc__)\n",
    "print(my_func.__name__)"
   ]
  },
  {
   "cell_type": "markdown",
   "metadata": {},
   "source": [
    "运行以上代码，除了输出我们意料的“going to run my_func”等之外， 最后的`__doc__`为`None`，`__name__`会报错，显然此时`my_func`是一个`MyDecorator`对象，因此没有原来函数的这些性质，此时可以使用`functools.update_wrapper(self, func)`来获得原函数的相关性质。"
   ]
  },
  {
   "cell_type": "markdown",
   "metadata": {
    "collapsed": true
   },
   "source": [
    "## 类装饰器\n",
    "\n",
    "前面所有的装饰器都是用来装饰函数，实际上装饰器还可以用在类上，从而修改类的基本行为，比如如下类装饰器。 "
   ]
  },
  {
   "cell_type": "code",
   "execution_count": 3,
   "metadata": {
    "collapsed": false
   },
   "outputs": [
    {
     "name": "stdout",
     "output_type": "stream",
     "text": [
      "('__module__', '__main__')\n",
      "('dump_me', <function dump_me at 0x7f7a9c13ded8>)\n",
      "('__dict__', <attribute '__dict__' of 'Fo' objects>)\n",
      "('__weakref__', <attribute '__weakref__' of 'Fo' objects>)\n",
      "('__doc__', None)\n",
      "('__init__', <function __init__ at 0x7f7a9c13dc80>)\n"
     ]
    }
   ],
   "source": [
    "def dump_class_vars(cls):\n",
    "    for k, v in cls.__dict__.iteritems():\n",
    "        print(k, v)\n",
    "    return cls\n",
    "\n",
    "@dump_class_vars\n",
    "class Fo(object):\n",
    "    def __init__(self):\n",
    "        pass\n",
    "    \n",
    "    def dump_me(self):\n",
    "        pass"
   ]
  },
  {
   "cell_type": "markdown",
   "metadata": {},
   "source": [
    "此时装饰器的写法和之前的有一些不一样，并没有返回任何函数，而是对传入的`class`做了一些操作，然后返回原`class`就结束了。  "
   ]
  }
 ],
 "metadata": {
  "kernelspec": {
   "display_name": "Python 2",
   "language": "python",
   "name": "python2"
  },
  "language_info": {
   "codemirror_mode": {
    "name": "ipython",
    "version": 2
   },
   "file_extension": ".py",
   "mimetype": "text/x-python",
   "name": "python",
   "nbconvert_exporter": "python",
   "pygments_lexer": "ipython2",
   "version": "2.7.11"
  }
 },
 "nbformat": 4,
 "nbformat_minor": 0
}
