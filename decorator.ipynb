{
 "cells": [
  {
   "cell_type": "markdown",
   "metadata": {},
   "source": [
    "# 装饰器\n",
    "## 理解装饰器\n",
    "\n",
    "理解装饰器，我们必须要理解当我们给一个函数加上装饰器的时候，真正发生了什么，比如下面的代码。\n",
    "\n",
    "```python\n",
    "@my_decorator\n",
    "def my_func(*args, **kwargs):\n",
    "    pass\n",
    "```\n",
    "\n",
    "实际上这一段代码在编译的时候，编译器真正执行的是\n",
    "```python\n",
    "def my_func(*args, **kwargs):\n",
    "    pass\n",
    "my_func = my_decorator(my_func)\n",
    "```\n",
    "简单来说，`my_func`函数先被定义，然后又被`my_decorator(my_func)`的返回值重新定义了。现在来看`my_decotator`:\n",
    "\n",
    "- 首先它必须是一个可调用的对象，最常见的，必须是一个函数。它也可以是一个类，此为后话。\n",
    "- 其次它必须且只能接受一个参数`my_fun`。\n",
    "- 它必须有一个返回值，这个返回值用来覆盖原来的`my_fun`。按常理，返回值应该也是一个函数，只有这样，`my_fun`才能继续被当成函数调用。其实也不尽然，此为另一后话。\n",
    "\n"
   ]
  },
  {
   "cell_type": "code",
   "execution_count": null,
   "metadata": {
    "collapsed": true
   },
   "outputs": [],
   "source": []
  }
 ],
 "metadata": {
  "kernelspec": {
   "display_name": "Python 2",
   "language": "python",
   "name": "python2"
  },
  "language_info": {
   "codemirror_mode": {
    "name": "ipython",
    "version": 2
   },
   "file_extension": ".py",
   "mimetype": "text/x-python",
   "name": "python",
   "nbconvert_exporter": "python",
   "pygments_lexer": "ipython2",
   "version": "2.7.11"
  }
 },
 "nbformat": 4,
 "nbformat_minor": 0
}
